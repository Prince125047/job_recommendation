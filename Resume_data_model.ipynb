{
  "nbformat": 4,
  "nbformat_minor": 0,
  "metadata": {
    "colab": {
      "provenance": [],
      "authorship_tag": "ABX9TyNhtSt+W3VZQ/5V9UEDb9xC",
      "include_colab_link": true
    },
    "kernelspec": {
      "name": "python3",
      "display_name": "Python 3"
    },
    "language_info": {
      "name": "python"
    }
  },
  "cells": [
    {
      "cell_type": "markdown",
      "metadata": {
        "id": "view-in-github",
        "colab_type": "text"
      },
      "source": [
        "<a href=\"https://colab.research.google.com/github/Prince125047/job_recommendation/blob/main/Resume_data_model.ipynb\" target=\"_parent\"><img src=\"https://colab.research.google.com/assets/colab-badge.svg\" alt=\"Open In Colab\"/></a>"
      ]
    },
    {
      "cell_type": "code",
      "execution_count": null,
      "metadata": {
        "colab": {
          "base_uri": "https://localhost:8080/"
        },
        "id": "cxobViQZ_5D6",
        "outputId": "51fd0e4a-d94a-493f-8405-33633813f8b3"
      },
      "outputs": [
        {
          "output_type": "stream",
          "name": "stdout",
          "text": [
            "Requirement already satisfied: pandas in /usr/local/lib/python3.11/dist-packages (2.2.2)\n",
            "Requirement already satisfied: numpy in /usr/local/lib/python3.11/dist-packages (1.26.4)\n",
            "Collecting sklearn\n",
            "  Downloading sklearn-0.0.post12.tar.gz (2.6 kB)\n",
            "  \u001b[1;31merror\u001b[0m: \u001b[1msubprocess-exited-with-error\u001b[0m\n",
            "  \n",
            "  \u001b[31m×\u001b[0m \u001b[32mpython setup.py egg_info\u001b[0m did not run successfully.\n",
            "  \u001b[31m│\u001b[0m exit code: \u001b[1;36m1\u001b[0m\n",
            "  \u001b[31m╰─>\u001b[0m See above for output.\n",
            "  \n",
            "  \u001b[1;35mnote\u001b[0m: This error originates from a subprocess, and is likely not a problem with pip.\n",
            "  Preparing metadata (setup.py) ... \u001b[?25l\u001b[?25herror\n",
            "\u001b[1;31merror\u001b[0m: \u001b[1mmetadata-generation-failed\u001b[0m\n",
            "\n",
            "\u001b[31m×\u001b[0m Encountered error while generating package metadata.\n",
            "\u001b[31m╰─>\u001b[0m See above for output.\n",
            "\n",
            "\u001b[1;35mnote\u001b[0m: This is an issue with the package mentioned above, not pip.\n",
            "\u001b[1;36mhint\u001b[0m: See above for details.\n"
          ]
        },
        {
          "output_type": "stream",
          "name": "stderr",
          "text": [
            "[nltk_data] Downloading package punkt to /root/nltk_data...\n",
            "[nltk_data]   Unzipping tokenizers/punkt.zip.\n"
          ]
        },
        {
          "output_type": "execute_result",
          "data": {
            "text/plain": [
              "True"
            ]
          },
          "metadata": {},
          "execution_count": 1
        }
      ],
      "source": [
        "!pip install pandas numpy sklearn nltk torch transformers\n",
        "import pandas as pd\n",
        "import numpy as np\n",
        "import nltk\n",
        "import torch\n",
        "from transformers import BertTokenizer, BertModel\n",
        "from sklearn.feature_extraction.text import TfidfVectorizer\n",
        "from sklearn.model_selection import train_test_split\n",
        "from sklearn.ensemble import RandomForestClassifier\n",
        "nltk.download(\"punkt\")"
      ]
    },
    {
      "cell_type": "code",
      "source": [
        "# Load Resume Dataset\n",
        "df_resume = pd.read_csv(\"df_resume.csv\")\n",
        "\n",
        "# Load Skill Gap Dataset\n",
        "df_skill_gap = pd.read_csv(\"df_skill_gap.csv\")\n",
        "\n",
        "# Display Data Info\n",
        "print(df_resume.head())\n",
        "print(df_skill_gap.head())\n"
      ],
      "metadata": {
        "colab": {
          "base_uri": "https://localhost:8080/"
        },
        "id": "I4OBj1_iFAnx",
        "outputId": "2a652db5-3a9e-4204-cb98-d9da9f82da19"
      },
      "execution_count": null,
      "outputs": [
        {
          "output_type": "stream",
          "name": "stdout",
          "text": [
            "                          Job Title  \\\n",
            "0  Media Planning Executive/Manager   \n",
            "1           Sales Executive/Officer   \n",
            "2                     R&D Executive   \n",
            "3        Technical Support Engineer   \n",
            "4                  Testing Engineer   \n",
            "\n",
            "                                          Key Skills  \n",
            "0                      Media Planning| Digital Media  \n",
            "1   pre sales| closing| software knowledge| clien...  \n",
            "2   Computer science| Fabrication| Quality check|...  \n",
            "3                                  Technical Support  \n",
            "4   manual testing| test engineering| test cases|...  \n",
            "                          Job Title  \\\n",
            "0  Media Planning Executive/Manager   \n",
            "1           Sales Executive/Officer   \n",
            "2                     R&D Executive   \n",
            "3        Technical Support Engineer   \n",
            "4                  Testing Engineer   \n",
            "\n",
            "                                          Key Skills Job Experience Required  \n",
            "0                      Media Planning| Digital Media              5 - 10 yrs  \n",
            "1   pre sales| closing| software knowledge| clien...               2 - 5 yrs  \n",
            "2   Computer science| Fabrication| Quality check|...               0 - 1 yrs  \n",
            "3                                  Technical Support               0 - 5 yrs  \n",
            "4   manual testing| test engineering| test cases|...               2 - 5 yrs  \n"
          ]
        }
      ]
    },
    {
      "cell_type": "code",
      "source": [
        "print(df_resume.columns)"
      ],
      "metadata": {
        "colab": {
          "base_uri": "https://localhost:8080/"
        },
        "id": "9En0kOcGFsec",
        "outputId": "19b7ff9a-6e1a-4d75-c936-134207b25148"
      },
      "execution_count": null,
      "outputs": [
        {
          "output_type": "stream",
          "name": "stdout",
          "text": [
            "Index(['Job Title', 'Key Skills'], dtype='object')\n"
          ]
        }
      ]
    },
    {
      "cell_type": "code",
      "source": [
        "print(df_skill_gap.columns)"
      ],
      "metadata": {
        "id": "4rmueIREGZsA",
        "outputId": "eb9504e6-1b90-40aa-a263-7ab693710c8b",
        "colab": {
          "base_uri": "https://localhost:8080/"
        }
      },
      "execution_count": null,
      "outputs": [
        {
          "output_type": "stream",
          "name": "stdout",
          "text": [
            "Index(['Job Title', 'Key Skills', 'Job Experience Required'], dtype='object')\n"
          ]
        }
      ]
    }
  ]
}