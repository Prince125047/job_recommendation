{
  "nbformat": 4,
  "nbformat_minor": 0,
  "metadata": {
    "colab": {
      "provenance": [],
      "authorship_tag": "ABX9TyMqO9UyvTaoz/9sEpdKatAV",
      "include_colab_link": true
    },
    "kernelspec": {
      "name": "python3",
      "display_name": "Python 3"
    },
    "language_info": {
      "name": "python"
    }
  },
  "cells": [
    {
      "cell_type": "markdown",
      "metadata": {
        "id": "view-in-github",
        "colab_type": "text"
      },
      "source": [
        "<a href=\"https://colab.research.google.com/github/Prince125047/job_recommendation/blob/main/dataset.ipynb\" target=\"_parent\"><img src=\"https://colab.research.google.com/assets/colab-badge.svg\" alt=\"Open In Colab\"/></a>"
      ]
    },
    {
      "cell_type": "code",
      "execution_count": 1,
      "metadata": {
        "colab": {
          "base_uri": "https://localhost:8080/",
          "height": 560
        },
        "id": "JpkQE90Sav8o",
        "outputId": "dfe06be2-eadc-4a40-c788-7a55ef1bb5f1"
      },
      "outputs": [
        {
          "output_type": "stream",
          "name": "stdout",
          "text": [
            "<class 'pandas.core.frame.DataFrame'>\n",
            "RangeIndex: 27010 entries, 0 to 27009\n",
            "Data columns (total 8 columns):\n",
            " #   Column                   Non-Null Count  Dtype \n",
            "---  ------                   --------------  ----- \n",
            " 0   Unnamed: 0               27010 non-null  int64 \n",
            " 1   Job Salary               27010 non-null  object\n",
            " 2   Job Experience Required  27010 non-null  object\n",
            " 3   Key Skills               27010 non-null  object\n",
            " 4   Role Category            27010 non-null  object\n",
            " 5   Functional Area          27010 non-null  object\n",
            " 6   Industry                 27010 non-null  object\n",
            " 7   Job Title                27010 non-null  object\n",
            "dtypes: int64(1), object(7)\n",
            "memory usage: 1.6+ MB\n"
          ]
        },
        {
          "output_type": "execute_result",
          "data": {
            "text/plain": [
              "         Unnamed: 0\n",
              "count  27010.000000\n",
              "mean   14973.197260\n",
              "std     8661.925267\n",
              "min        0.000000\n",
              "25%     7474.250000\n",
              "50%    14913.500000\n",
              "75%    22476.500000\n",
              "max    29999.000000"
            ],
            "text/html": [
              "\n",
              "  <div id=\"df-c78deae1-3ab3-4092-94dc-bfb4134f8aee\" class=\"colab-df-container\">\n",
              "    <div>\n",
              "<style scoped>\n",
              "    .dataframe tbody tr th:only-of-type {\n",
              "        vertical-align: middle;\n",
              "    }\n",
              "\n",
              "    .dataframe tbody tr th {\n",
              "        vertical-align: top;\n",
              "    }\n",
              "\n",
              "    .dataframe thead th {\n",
              "        text-align: right;\n",
              "    }\n",
              "</style>\n",
              "<table border=\"1\" class=\"dataframe\">\n",
              "  <thead>\n",
              "    <tr style=\"text-align: right;\">\n",
              "      <th></th>\n",
              "      <th>Unnamed: 0</th>\n",
              "    </tr>\n",
              "  </thead>\n",
              "  <tbody>\n",
              "    <tr>\n",
              "      <th>count</th>\n",
              "      <td>27010.000000</td>\n",
              "    </tr>\n",
              "    <tr>\n",
              "      <th>mean</th>\n",
              "      <td>14973.197260</td>\n",
              "    </tr>\n",
              "    <tr>\n",
              "      <th>std</th>\n",
              "      <td>8661.925267</td>\n",
              "    </tr>\n",
              "    <tr>\n",
              "      <th>min</th>\n",
              "      <td>0.000000</td>\n",
              "    </tr>\n",
              "    <tr>\n",
              "      <th>25%</th>\n",
              "      <td>7474.250000</td>\n",
              "    </tr>\n",
              "    <tr>\n",
              "      <th>50%</th>\n",
              "      <td>14913.500000</td>\n",
              "    </tr>\n",
              "    <tr>\n",
              "      <th>75%</th>\n",
              "      <td>22476.500000</td>\n",
              "    </tr>\n",
              "    <tr>\n",
              "      <th>max</th>\n",
              "      <td>29999.000000</td>\n",
              "    </tr>\n",
              "  </tbody>\n",
              "</table>\n",
              "</div>\n",
              "    <div class=\"colab-df-buttons\">\n",
              "\n",
              "  <div class=\"colab-df-container\">\n",
              "    <button class=\"colab-df-convert\" onclick=\"convertToInteractive('df-c78deae1-3ab3-4092-94dc-bfb4134f8aee')\"\n",
              "            title=\"Convert this dataframe to an interactive table.\"\n",
              "            style=\"display:none;\">\n",
              "\n",
              "  <svg xmlns=\"http://www.w3.org/2000/svg\" height=\"24px\" viewBox=\"0 -960 960 960\">\n",
              "    <path d=\"M120-120v-720h720v720H120Zm60-500h600v-160H180v160Zm220 220h160v-160H400v160Zm0 220h160v-160H400v160ZM180-400h160v-160H180v160Zm440 0h160v-160H620v160ZM180-180h160v-160H180v160Zm440 0h160v-160H620v160Z\"/>\n",
              "  </svg>\n",
              "    </button>\n",
              "\n",
              "  <style>\n",
              "    .colab-df-container {\n",
              "      display:flex;\n",
              "      gap: 12px;\n",
              "    }\n",
              "\n",
              "    .colab-df-convert {\n",
              "      background-color: #E8F0FE;\n",
              "      border: none;\n",
              "      border-radius: 50%;\n",
              "      cursor: pointer;\n",
              "      display: none;\n",
              "      fill: #1967D2;\n",
              "      height: 32px;\n",
              "      padding: 0 0 0 0;\n",
              "      width: 32px;\n",
              "    }\n",
              "\n",
              "    .colab-df-convert:hover {\n",
              "      background-color: #E2EBFA;\n",
              "      box-shadow: 0px 1px 2px rgba(60, 64, 67, 0.3), 0px 1px 3px 1px rgba(60, 64, 67, 0.15);\n",
              "      fill: #174EA6;\n",
              "    }\n",
              "\n",
              "    .colab-df-buttons div {\n",
              "      margin-bottom: 4px;\n",
              "    }\n",
              "\n",
              "    [theme=dark] .colab-df-convert {\n",
              "      background-color: #3B4455;\n",
              "      fill: #D2E3FC;\n",
              "    }\n",
              "\n",
              "    [theme=dark] .colab-df-convert:hover {\n",
              "      background-color: #434B5C;\n",
              "      box-shadow: 0px 1px 3px 1px rgba(0, 0, 0, 0.15);\n",
              "      filter: drop-shadow(0px 1px 2px rgba(0, 0, 0, 0.3));\n",
              "      fill: #FFFFFF;\n",
              "    }\n",
              "  </style>\n",
              "\n",
              "    <script>\n",
              "      const buttonEl =\n",
              "        document.querySelector('#df-c78deae1-3ab3-4092-94dc-bfb4134f8aee button.colab-df-convert');\n",
              "      buttonEl.style.display =\n",
              "        google.colab.kernel.accessAllowed ? 'block' : 'none';\n",
              "\n",
              "      async function convertToInteractive(key) {\n",
              "        const element = document.querySelector('#df-c78deae1-3ab3-4092-94dc-bfb4134f8aee');\n",
              "        const dataTable =\n",
              "          await google.colab.kernel.invokeFunction('convertToInteractive',\n",
              "                                                    [key], {});\n",
              "        if (!dataTable) return;\n",
              "\n",
              "        const docLinkHtml = 'Like what you see? Visit the ' +\n",
              "          '<a target=\"_blank\" href=https://colab.research.google.com/notebooks/data_table.ipynb>data table notebook</a>'\n",
              "          + ' to learn more about interactive tables.';\n",
              "        element.innerHTML = '';\n",
              "        dataTable['output_type'] = 'display_data';\n",
              "        await google.colab.output.renderOutput(dataTable, element);\n",
              "        const docLink = document.createElement('div');\n",
              "        docLink.innerHTML = docLinkHtml;\n",
              "        element.appendChild(docLink);\n",
              "      }\n",
              "    </script>\n",
              "  </div>\n",
              "\n",
              "\n",
              "<div id=\"df-ac2e2655-7f7f-4336-97e9-7e1d47d20e39\">\n",
              "  <button class=\"colab-df-quickchart\" onclick=\"quickchart('df-ac2e2655-7f7f-4336-97e9-7e1d47d20e39')\"\n",
              "            title=\"Suggest charts\"\n",
              "            style=\"display:none;\">\n",
              "\n",
              "<svg xmlns=\"http://www.w3.org/2000/svg\" height=\"24px\"viewBox=\"0 0 24 24\"\n",
              "     width=\"24px\">\n",
              "    <g>\n",
              "        <path d=\"M19 3H5c-1.1 0-2 .9-2 2v14c0 1.1.9 2 2 2h14c1.1 0 2-.9 2-2V5c0-1.1-.9-2-2-2zM9 17H7v-7h2v7zm4 0h-2V7h2v10zm4 0h-2v-4h2v4z\"/>\n",
              "    </g>\n",
              "</svg>\n",
              "  </button>\n",
              "\n",
              "<style>\n",
              "  .colab-df-quickchart {\n",
              "      --bg-color: #E8F0FE;\n",
              "      --fill-color: #1967D2;\n",
              "      --hover-bg-color: #E2EBFA;\n",
              "      --hover-fill-color: #174EA6;\n",
              "      --disabled-fill-color: #AAA;\n",
              "      --disabled-bg-color: #DDD;\n",
              "  }\n",
              "\n",
              "  [theme=dark] .colab-df-quickchart {\n",
              "      --bg-color: #3B4455;\n",
              "      --fill-color: #D2E3FC;\n",
              "      --hover-bg-color: #434B5C;\n",
              "      --hover-fill-color: #FFFFFF;\n",
              "      --disabled-bg-color: #3B4455;\n",
              "      --disabled-fill-color: #666;\n",
              "  }\n",
              "\n",
              "  .colab-df-quickchart {\n",
              "    background-color: var(--bg-color);\n",
              "    border: none;\n",
              "    border-radius: 50%;\n",
              "    cursor: pointer;\n",
              "    display: none;\n",
              "    fill: var(--fill-color);\n",
              "    height: 32px;\n",
              "    padding: 0;\n",
              "    width: 32px;\n",
              "  }\n",
              "\n",
              "  .colab-df-quickchart:hover {\n",
              "    background-color: var(--hover-bg-color);\n",
              "    box-shadow: 0 1px 2px rgba(60, 64, 67, 0.3), 0 1px 3px 1px rgba(60, 64, 67, 0.15);\n",
              "    fill: var(--button-hover-fill-color);\n",
              "  }\n",
              "\n",
              "  .colab-df-quickchart-complete:disabled,\n",
              "  .colab-df-quickchart-complete:disabled:hover {\n",
              "    background-color: var(--disabled-bg-color);\n",
              "    fill: var(--disabled-fill-color);\n",
              "    box-shadow: none;\n",
              "  }\n",
              "\n",
              "  .colab-df-spinner {\n",
              "    border: 2px solid var(--fill-color);\n",
              "    border-color: transparent;\n",
              "    border-bottom-color: var(--fill-color);\n",
              "    animation:\n",
              "      spin 1s steps(1) infinite;\n",
              "  }\n",
              "\n",
              "  @keyframes spin {\n",
              "    0% {\n",
              "      border-color: transparent;\n",
              "      border-bottom-color: var(--fill-color);\n",
              "      border-left-color: var(--fill-color);\n",
              "    }\n",
              "    20% {\n",
              "      border-color: transparent;\n",
              "      border-left-color: var(--fill-color);\n",
              "      border-top-color: var(--fill-color);\n",
              "    }\n",
              "    30% {\n",
              "      border-color: transparent;\n",
              "      border-left-color: var(--fill-color);\n",
              "      border-top-color: var(--fill-color);\n",
              "      border-right-color: var(--fill-color);\n",
              "    }\n",
              "    40% {\n",
              "      border-color: transparent;\n",
              "      border-right-color: var(--fill-color);\n",
              "      border-top-color: var(--fill-color);\n",
              "    }\n",
              "    60% {\n",
              "      border-color: transparent;\n",
              "      border-right-color: var(--fill-color);\n",
              "    }\n",
              "    80% {\n",
              "      border-color: transparent;\n",
              "      border-right-color: var(--fill-color);\n",
              "      border-bottom-color: var(--fill-color);\n",
              "    }\n",
              "    90% {\n",
              "      border-color: transparent;\n",
              "      border-bottom-color: var(--fill-color);\n",
              "    }\n",
              "  }\n",
              "</style>\n",
              "\n",
              "  <script>\n",
              "    async function quickchart(key) {\n",
              "      const quickchartButtonEl =\n",
              "        document.querySelector('#' + key + ' button');\n",
              "      quickchartButtonEl.disabled = true;  // To prevent multiple clicks.\n",
              "      quickchartButtonEl.classList.add('colab-df-spinner');\n",
              "      try {\n",
              "        const charts = await google.colab.kernel.invokeFunction(\n",
              "            'suggestCharts', [key], {});\n",
              "      } catch (error) {\n",
              "        console.error('Error during call to suggestCharts:', error);\n",
              "      }\n",
              "      quickchartButtonEl.classList.remove('colab-df-spinner');\n",
              "      quickchartButtonEl.classList.add('colab-df-quickchart-complete');\n",
              "    }\n",
              "    (() => {\n",
              "      let quickchartButtonEl =\n",
              "        document.querySelector('#df-ac2e2655-7f7f-4336-97e9-7e1d47d20e39 button');\n",
              "      quickchartButtonEl.style.display =\n",
              "        google.colab.kernel.accessAllowed ? 'block' : 'none';\n",
              "    })();\n",
              "  </script>\n",
              "</div>\n",
              "\n",
              "    </div>\n",
              "  </div>\n"
            ],
            "application/vnd.google.colaboratory.intrinsic+json": {
              "type": "dataframe",
              "summary": "{\n  \"name\": \"df\",\n  \"rows\": 8,\n  \"fields\": [\n    {\n      \"column\": \"Unnamed: 0\",\n      \"properties\": {\n        \"dtype\": \"number\",\n        \"std\": 10303.47851994568,\n        \"min\": 0.0,\n        \"max\": 29999.0,\n        \"num_unique_values\": 8,\n        \"samples\": [\n          14973.197260273973,\n          14913.5,\n          27010.0\n        ],\n        \"semantic_type\": \"\",\n        \"description\": \"\"\n      }\n    }\n  ]\n}"
            }
          },
          "metadata": {},
          "execution_count": 1
        }
      ],
      "source": [
        "import pandas as pd\n",
        "\n",
        "# Load dataset (if not loaded already)\n",
        "df = pd.read_csv(\"jobs.csv\")\n",
        "\n",
        "# Display basic info\n",
        "df.info()  # Check column names, data types, and missing values\n",
        "df.head()  # Show first few rows\n",
        "df.describe()  # Summary statistics\n"
      ]
    },
    {
      "cell_type": "code",
      "source": [
        "print(df.isnull().sum())  # Double-check missing values\n",
        "print(df.head())  # Preview data to see inconsistencies"
      ],
      "metadata": {
        "colab": {
          "base_uri": "https://localhost:8080/"
        },
        "id": "9ZOGVEovf7u1",
        "outputId": "07a1755a-c720-43cb-8b53-b456b7268393"
      },
      "execution_count": 2,
      "outputs": [
        {
          "output_type": "stream",
          "name": "stdout",
          "text": [
            "Unnamed: 0                 0\n",
            "Job Salary                 0\n",
            "Job Experience Required    0\n",
            "Key Skills                 0\n",
            "Role Category              0\n",
            "Functional Area            0\n",
            "Industry                   0\n",
            "Job Title                  0\n",
            "dtype: int64\n",
            "   Unnamed: 0                    Job Salary Job Experience Required  \\\n",
            "0           0   Not Disclosed by Recruiter               5 - 10 yrs   \n",
            "1           1   Not Disclosed by Recruiter                2 - 5 yrs   \n",
            "2           2   Not Disclosed by Recruiter                0 - 1 yrs   \n",
            "3           3       2,00,000 - 4,00,000 PA.               0 - 5 yrs   \n",
            "4           4   Not Disclosed by Recruiter                2 - 5 yrs   \n",
            "\n",
            "                                          Key Skills  \\\n",
            "0                      Media Planning| Digital Media   \n",
            "1   pre sales| closing| software knowledge| clien...   \n",
            "2   Computer science| Fabrication| Quality check|...   \n",
            "3                                  Technical Support   \n",
            "4   manual testing| test engineering| test cases|...   \n",
            "\n",
            "                                Role Category  \\\n",
            "0                                 Advertising   \n",
            "1                                Retail Sales   \n",
            "2                                         R&D   \n",
            "3  Admin/Maintenance/Security/Datawarehousing   \n",
            "4                        Programming & Design   \n",
            "\n",
            "                                     Functional Area  \\\n",
            "0  Marketing , Advertising , MR , PR , Media Plan...   \n",
            "1              Sales , Retail , Business Development   \n",
            "2                           Engineering Design , R&D   \n",
            "3  IT Software - Application Programming , Mainte...   \n",
            "4                         IT Software - QA & Testing   \n",
            "\n",
            "                                Industry                         Job Title  \n",
            "0  Advertising, PR, MR, Event Management  Media Planning Executive/Manager  \n",
            "1         IT-Software, Software Services           Sales Executive/Officer  \n",
            "2                  Recruitment, Staffing                     R&D Executive  \n",
            "3         IT-Software, Software Services        Technical Support Engineer  \n",
            "4         IT-Software, Software Services                  Testing Engineer  \n"
          ]
        }
      ]
    },
    {
      "cell_type": "code",
      "source": [
        "import re\n",
        "\n",
        "def extract_salary(salary):\n",
        "    match = re.findall(r\"\\d+\", salary)  # Extract numeric values\n",
        "    return (int(match[0]) + int(match[-1])) / 2 if match else None  # Take avg if range given\n",
        "\n",
        "df[\"Job Salary\"] = df[\"Job Salary\"].apply(lambda x: extract_salary(str(x)))\n",
        "df = df.dropna(subset=[\"Job Salary\"])  # Drop rows where salary extraction failed\n"
      ],
      "metadata": {
        "id": "MikiSFXCf_CC"
      },
      "execution_count": 3,
      "outputs": []
    },
    {
      "cell_type": "code",
      "source": [
        "df[\"Key Skills\"] = df[\"Key Skills\"].apply(lambda x: x.split(\"|\") if isinstance(x, str) else [])"
      ],
      "metadata": {
        "id": "OVEal8CBgEFx"
      },
      "execution_count": 4,
      "outputs": []
    },
    {
      "cell_type": "code",
      "source": [
        "from sklearn.preprocessing import LabelEncoder\n",
        "\n",
        "le = LabelEncoder()\n",
        "df[\"Role Category Encoded\"] = le.fit_transform(df[\"Role Category\"])\n",
        "df[\"Functional Area Encoded\"] = le.fit_transform(df[\"Functional Area\"])\n",
        "df[\"Industry Encoded\"] = le.fit_transform(df[\"Industry\"])\n"
      ],
      "metadata": {
        "id": "8eVsDmFKgIwt"
      },
      "execution_count": 5,
      "outputs": []
    },
    {
      "cell_type": "code",
      "source": [
        "from collections import Counter\n",
        "\n",
        "all_skills = [skill for sublist in df[\"Key Skills\"] for skill in sublist]\n",
        "skill_counts = Counter(all_skills)\n",
        "print(skill_counts.most_common(10))  # Top 10 most required skills\n"
      ],
      "metadata": {
        "colab": {
          "base_uri": "https://localhost:8080/"
        },
        "id": "bigVvwEygSnk",
        "outputId": "1ce3e4e9-dbe6-406f-dd40-a1ca6d40f9e5"
      },
      "execution_count": 6,
      "outputs": [
        {
          "output_type": "stream",
          "name": "stdout",
          "text": [
            "[(' sales', 331), (' bpo', 327), (' Sales', 293), (' international bpo', 287), (' customer service', 277), (' voice process', 268), (' fresher', 245), (' business development', 242), (' Communication Skills', 211), (' Javascript', 199)]\n"
          ]
        }
      ]
    },
    {
      "cell_type": "code",
      "source": [
        "print(df[\"Role Category\"].value_counts())\n",
        "print(df[\"Industry\"].value_counts())"
      ],
      "metadata": {
        "colab": {
          "base_uri": "https://localhost:8080/"
        },
        "id": "GG0f_Qy0gWsF",
        "outputId": "795ed842-98d6-4c1d-ddb1-6007982d7404"
      },
      "execution_count": 7,
      "outputs": [
        {
          "output_type": "stream",
          "name": "stdout",
          "text": [
            "Role Category\n",
            "Programming & Design                                                                                                                                                                                                                                                                                                                                                                                                                                                                                                                                                                                                                                                                                                                                                                                                                                                                                                                                                                                                                                                                                                                                                                                                                                                                                                                                                                                                                                                                                                                                                                                                                                                                                                                                                                                                                                                                                                                                                                                                                                                                                                                                                                                                                                                                                                                                                                    1458\n",
            "Voice                                                                                                                                                                                                                                                                                                                                                                                                                                                                                                                                                                                                                                                                                                                                                                                                                                                                                                                                                                                                                                                                                                                                                                                                                                                                                                                                                                                                                                                                                                                                                                                                                                                                                                                                                                                                                                                                                                                                                                                                                                                                                                                                                                                                                                                                                                                                                                                    933\n",
            "Retail Sales                                                                                                                                                                                                                                                                                                                                                                                                                                                                                                                                                                                                                                                                                                                                                                                                                                                                                                                                                                                                                                                                                                                                                                                                                                                                                                                                                                                                                                                                                                                                                                                                                                                                                                                                                                                                                                                                                                                                                                                                                                                                                                                                                                                                                                                                                                                                                                             849\n",
            "HR/ Recruitment / IR                                                                                                                                                                                                                                                                                                                                                                                                                                                                                                                                                                                                                                                                                                                                                                                                                                                                                                                                                                                                                                                                                                                                                                                                                                                                                                                                                                                                                                                                                                                                                                                                                                                                                                                                                                                                                                                                                                                                                                                                                                                                                                                                                                                                                                                                                                                                                                     423\n",
            "Other                                                                                                                                                                                                                                                                                                                                                                                                                                                                                                                                                                                                                                                                                                                                                                                                                                                                                                                                                                                                                                                                                                                                                                                                                                                                                                                                                                                                                                                                                                                                                                                                                                                                                                                                                                                                                                                                                                                                                                                                                                                                                                                                                                                                                                                                                                                                                                                    390\n",
            "                                                                                                                                                                                                                                                                                                                                                                                                                                                                                                                                                                                                                                                                                                                                                                                                                                                                                                                                                                                                                                                                                                                                                                                                                                                                                                                                                                                                                                                                                                                                                                                                                                                                                                                                                                                                                                                                                                                                                                                                                                                                                                                                                                                                                                                                                                                                                                                        ... \n",
            "OYO ROOMS                                                                                                                                                                                                                                                                                                                                                                                                                                                                                                                                                                                                                                                                                                                                                                                                                                                                                                                                                                                                                                                                                                                                                                                                                                                                                                                                                                                                                                                                                                                                                                                                                                                                                                                                                                                                                                                                                                                                                                                                                                                                                                                                                                                                                                                                                                                                                                                  1\n",
            "Dear all, Urgent vacancy at Fortis Hospital Mulund, Mumbai for Interventional Paediatric Cardiologist. Qualification - MBBS, DCH(Paediatric), DNB(Paediatric), FNB(Peadiatric Cardiology) Experience - 0-4 Yrs Interested candidates can share their resume on rahul.narkar@fortishealthcare .com or can call us on 02249254263/02249254292 Salary: Not Disclosed by Recruiter Industry: Medical / Healthcare / Hospitals Functional Area: Other Employment Type: Full Time, Permanent                                                                                                                                                                                                                                                                                                                                                                                                                                                                                                                                                                                                                                                                                                                                                                                                                                                                                                                                                                                                                                                                                                                                                                                                                                                                                                                                                                                                                                                                                                                                                                                                                                                                                                                                                                                                                                                                                                     1\n",
            "TEKsystems Global Services (TGS) is the Software services division of TEKsystems. TEKsystems is a $4.3 billion organization with over 150 offices across the globe. TGS accounts for $600 Million and has about 5000 full time employees across the globe of which 1200 are in India. TGS operates through multiple solution centers across locations like US (Dallas, Redmond, Bloomington, Baltimore, Maryland), Europe (Amsterdam, London), Canada, Manila and India (Bangalore and Hyderabad). We are an ISO 27001 certified Organization                                                                                                                                                                                                                                                                                                                                                                                                                                                                                                                                                                                                                                                                                                                                                                                                                                                                                                                                                                                                                                                                                                                                                                                                                                                                                                                                                                                                                                                                                                                                                                                                                                                                                                                                                                                                                                              1\n",
            " Design, plan, organize and execute the job assigned and area allotted for effective referral sales of hospital services, facilities and modern technology to doctors, consultants and clinics. Develop and stabilize good and meaningful relationship with consultants, doctors, hospitals and clinics. Forward the report weekly to the Manager and get the feedback. Act as a communication channel between doctors and hospital Salary: Not Disclosed by Recruiter Industry: Medical / Healthcare / Hospitals Functional Area: Other Employment Type: Permanent Job, Full Time                                                                                                                                                                                                                                                                                                                                                                                                                                                                                                                                                                                                                                                                                                                                                                                                                                                                                                                                                                                                                                                                                                                                                                                                                                                                                                                                                                                                                                                                                                                                                                                                                                                                                                                                                                                                         1\n",
            "Job Description PO Operations Analyst:- Responsible for creation of Purchase requests and working with the Source-to-Settle/Procurement team and Business teams to get Purchase Orders created. Also responsible for getting invoices paid on time. . Follow the PO responsibility matrix and workflow. Review SOW / Contracts/ Engagement Letter and ensure that these documents adhere to Oracle's Standard template, terms and conditions, and Policies. Collaborate with Tax and Treasury Business team, Procurement team and with external Service providers to resolve issues related to contracts/Sows/POs/Invoices. Adherence to Standard Processes and timelines (SLA) to support the Service Delivery. Ensure timely response to inquiries from the Tax and Treasury business team and other operational team members. Manage the right balance of communication with the business team members and management team (Emails, Calls, Meetings). Act on the Weekly Aging PR / Holds reports by coordinating with S2S team , Internal business team and suppliers to ensure timely solutions to Pending Purchase requests, Purchase orders, Invoices on Hold and contract and SOWs Proactively reach out to the reporting manager for any additional support to resolve key issues. Identify Process Improvement opportunities and being the change agent to bring in operations excellence. Conduct meetings with Key service providers and ensure a smooth operation of end-to-end Source to settle cycle with minimum escalations. Required Skills and Experience: Experience of 6 8 years in E2E Procurement function ( PR/PO/Invoices) with relevant experience in the Contract review process. Knowledge of ERP Procurement and Payable(AP) process as a User is an essential pre-requisite. Demonstrate Excellent Customer Support skills. Demonstrate experience in MS Office (Word, PPT, Excel spreadsheet(able to do pivots, formulas)), ERP Procurement and web-based applications. Strong Verbal and Written Communication Skills. Good negotiation and collaboration skills to resolve inquiries and issues Location: Bangalore,Krishna Magnum Building, Survey No.165/3 and 165/4, Billekahalli Village, Begur Hobli Salary: INR 9,00,000 PA. 885804 Industry: IT-Software / Software Services Functional Area: Other Employment Type: Permanent Job, Full Time       1\n",
            "Name: count, Length: 154, dtype: int64\n",
            "Industry\n",
            "IT-Software, Software Services                                                                                                                                                                                                                                                                                                                                                                                                                                                                                                                                                                                                                                                                                                                                                                                                                                                                    1568\n",
            "BPO, Call Centre, ITeS                                                                                                                                                                                                                                                                                                                                                                                                                                                                                                                                                                                                                                                                                                                                                                                                                                                                            1094\n",
            "Banking, Financial Services, Broking                                                                                                                                                                                                                                                                                                                                                                                                                                                                                                                                                                                                                                                                                                                                                                                                                                                               465\n",
            "IT-Software / Software Services                                                                                                                                                                                                                                                                                                                                                                                                                                                                                                                                                                                                                                                                                                                                                                                                                                                                    323\n",
            "Education, Teaching, Training                                                                                                                                                                                                                                                                                                                                                                                                                                                                                                                                                                                                                                                                                                                                                                                                                                                                      263\n",
            "                                                                                                                                                                                                                                                                                                                                                                                                                                                                                                                                                                                                                                                                                                                                                                                                                                                                                                  ... \n",
            "TEKsystems Global Services (TGS) is the Software services division of TEKsystems. TEKsystems is a $4.3 billion organization with over 150 offices across the globe. TGS accounts for $600 Million and has about 5000 full time employees across the globe of which 1200 are in India. TGS operates through multiple solution centers across locations like US (Dallas, Redmond, Bloomington, Baltimore, Maryland), Europe (Amsterdam, London), Canada, Manila and India (Bangalore and Hyderabad). We are an ISO 27001 certified Organization                                                                                                                                                                                                                                                                                                                                                        1\n",
            "Architecture / Interior Design                                                                                                                                                                                                                                                                                                                                                                                                                                                                                                                                                                                                                                                                                                                                                                                                                                                                       1\n",
            "llegis Group India is a wholly owned subsidiary of Allegis Group, Inc. In India, the company specifically focuses on dealing with Technology products and providing high-end engineering design and analysis, IT and ITES services,Vendor Management, Training and Staffing services to Fortune 500 clients. About Allegis Group: A US $6 billion world leader in staffing services to over 4000 customers globally & largest Technology staffing company in the world today. IT, Telecom, Infrastructure and Engineering . One of the worlds largest privately held companies. The 6th Largest staffing company in the world and the 2nd Largest in the US . One of the top vendors to 99% of Fortune 500 companies. Employees over 100,000 employees across different parts of the world. Operations in North America, Europe and Asia with over 300 offices and now in India                      1\n",
            "Allegis Group India is a wholly owned subsidiary of Allegis Group, Inc. In India, the company specifically focuses on dealing with Technology products and providing high-end engineering design and analysis, IT and ITES services,Vendor Management, Training and Staffing services to Fortune 500 clients.About Allegis Group: A US $6billion world leader in staffing services to over 4000 customers globally World's largest Technology staffing company in the world today IT, Telecom, Infrastructure and Engineering BROne of the world's largest privately held companies (source: Forbes) The 6th Largest staffing company in the world and the 2nd Largest in the US One of the top vendors to 99% of Fortune 500 companies Employs over 100,000 employees across different parts of the world Operations in North America, Europe and Asia with over 300 offices and now in India       1\n",
            "Mining / Quarrying                                                                                                                                                                                                                                                                                                                                                                                                                                                                                                                                                                                                                                                                                                                                                                                                                                                                                   1\n",
            "Name: count, Length: 104, dtype: int64\n"
          ]
        }
      ]
    },
    {
      "cell_type": "code",
      "source": [
        "import pandas as pd\n",
        "\n",
        "# Load dataset\n",
        "df = pd.read_csv(\"jobs.csv\")\n",
        "\n",
        "# Creating Resume Parsing Dataset\n",
        "resume_data = df[['Job Title', 'Key Skills']]\n",
        "resume_data.to_csv('resume_data.csv', index=False)\n",
        "\n",
        "# Creating Job Recommendation Dataset\n",
        "job_recommendation_data = df[['Job Title', 'Role Category', 'Functional Area', 'Industry']]\n",
        "job_recommendation_data.to_csv('job_recommendation_data.csv', index=False)\n",
        "\n",
        "# Creating Skill Gap Analysis Dataset\n",
        "skill_gap_data = df[['Job Title', 'Key Skills', 'Job Experience Required']]\n",
        "skill_gap_data.to_csv('skill_gap_data.csv', index=False)\n",
        "\n",
        "print(\"Datasets saved successfully! 🎯\")"
      ],
      "metadata": {
        "colab": {
          "base_uri": "https://localhost:8080/"
        },
        "id": "3Be_p9OyieC6",
        "outputId": "d173e789-5d72-48cf-c6cf-e9fdb7ce4e02"
      },
      "execution_count": 12,
      "outputs": [
        {
          "output_type": "stream",
          "name": "stdout",
          "text": [
            "Datasets saved successfully! 🎯\n"
          ]
        }
      ]
    },
    {
      "cell_type": "code",
      "source": [
        "import os\n",
        "print(os.listdir())  # Lists all files in the current directory"
      ],
      "metadata": {
        "colab": {
          "base_uri": "https://localhost:8080/"
        },
        "id": "HA3yrlf7jFWF",
        "outputId": "1da1dece-cc7c-40b2-f9a4-194890c7df96"
      },
      "execution_count": 13,
      "outputs": [
        {
          "output_type": "stream",
          "name": "stdout",
          "text": [
            "['.config', '.ipynb_checkpoints', 'jobs.csv', 'skill_gap_data.csv', 'job_recommendation_data.csv', 'resume_data.csv', 'sample_data']\n"
          ]
        }
      ]
    },
    {
      "cell_type": "code",
      "source": [
        "from google.colab import files\n",
        "files.download(\"resume_data.csv\")\n",
        "files.download(\"job_recommendation_data.csv\")\n",
        "files.download(\"skill_gap_data.csv\")"
      ],
      "metadata": {
        "colab": {
          "base_uri": "https://localhost:8080/",
          "height": 17
        },
        "id": "F1xoU9BNjJ1t",
        "outputId": "89d7b9fb-7e78-405d-fc90-cdf2c4749a96"
      },
      "execution_count": 14,
      "outputs": [
        {
          "output_type": "display_data",
          "data": {
            "text/plain": [
              "<IPython.core.display.Javascript object>"
            ],
            "application/javascript": [
              "\n",
              "    async function download(id, filename, size) {\n",
              "      if (!google.colab.kernel.accessAllowed) {\n",
              "        return;\n",
              "      }\n",
              "      const div = document.createElement('div');\n",
              "      const label = document.createElement('label');\n",
              "      label.textContent = `Downloading \"${filename}\": `;\n",
              "      div.appendChild(label);\n",
              "      const progress = document.createElement('progress');\n",
              "      progress.max = size;\n",
              "      div.appendChild(progress);\n",
              "      document.body.appendChild(div);\n",
              "\n",
              "      const buffers = [];\n",
              "      let downloaded = 0;\n",
              "\n",
              "      const channel = await google.colab.kernel.comms.open(id);\n",
              "      // Send a message to notify the kernel that we're ready.\n",
              "      channel.send({})\n",
              "\n",
              "      for await (const message of channel.messages) {\n",
              "        // Send a message to notify the kernel that we're ready.\n",
              "        channel.send({})\n",
              "        if (message.buffers) {\n",
              "          for (const buffer of message.buffers) {\n",
              "            buffers.push(buffer);\n",
              "            downloaded += buffer.byteLength;\n",
              "            progress.value = downloaded;\n",
              "          }\n",
              "        }\n",
              "      }\n",
              "      const blob = new Blob(buffers, {type: 'application/binary'});\n",
              "      const a = document.createElement('a');\n",
              "      a.href = window.URL.createObjectURL(blob);\n",
              "      a.download = filename;\n",
              "      div.appendChild(a);\n",
              "      a.click();\n",
              "      div.remove();\n",
              "    }\n",
              "  "
            ]
          },
          "metadata": {}
        },
        {
          "output_type": "display_data",
          "data": {
            "text/plain": [
              "<IPython.core.display.Javascript object>"
            ],
            "application/javascript": [
              "download(\"download_80e0b0dc-1d06-495f-9fe5-f715b458fe3c\", \"resume_data.csv\", 3553306)"
            ]
          },
          "metadata": {}
        },
        {
          "output_type": "display_data",
          "data": {
            "text/plain": [
              "<IPython.core.display.Javascript object>"
            ],
            "application/javascript": [
              "\n",
              "    async function download(id, filename, size) {\n",
              "      if (!google.colab.kernel.accessAllowed) {\n",
              "        return;\n",
              "      }\n",
              "      const div = document.createElement('div');\n",
              "      const label = document.createElement('label');\n",
              "      label.textContent = `Downloading \"${filename}\": `;\n",
              "      div.appendChild(label);\n",
              "      const progress = document.createElement('progress');\n",
              "      progress.max = size;\n",
              "      div.appendChild(progress);\n",
              "      document.body.appendChild(div);\n",
              "\n",
              "      const buffers = [];\n",
              "      let downloaded = 0;\n",
              "\n",
              "      const channel = await google.colab.kernel.comms.open(id);\n",
              "      // Send a message to notify the kernel that we're ready.\n",
              "      channel.send({})\n",
              "\n",
              "      for await (const message of channel.messages) {\n",
              "        // Send a message to notify the kernel that we're ready.\n",
              "        channel.send({})\n",
              "        if (message.buffers) {\n",
              "          for (const buffer of message.buffers) {\n",
              "            buffers.push(buffer);\n",
              "            downloaded += buffer.byteLength;\n",
              "            progress.value = downloaded;\n",
              "          }\n",
              "        }\n",
              "      }\n",
              "      const blob = new Blob(buffers, {type: 'application/binary'});\n",
              "      const a = document.createElement('a');\n",
              "      a.href = window.URL.createObjectURL(blob);\n",
              "      a.download = filename;\n",
              "      div.appendChild(a);\n",
              "      a.click();\n",
              "      div.remove();\n",
              "    }\n",
              "  "
            ]
          },
          "metadata": {}
        },
        {
          "output_type": "display_data",
          "data": {
            "text/plain": [
              "<IPython.core.display.Javascript object>"
            ],
            "application/javascript": [
              "download(\"download_71e2469a-179f-46b8-8b41-e92c0bcf743c\", \"job_recommendation_data.csv\", 3558881)"
            ]
          },
          "metadata": {}
        },
        {
          "output_type": "display_data",
          "data": {
            "text/plain": [
              "<IPython.core.display.Javascript object>"
            ],
            "application/javascript": [
              "\n",
              "    async function download(id, filename, size) {\n",
              "      if (!google.colab.kernel.accessAllowed) {\n",
              "        return;\n",
              "      }\n",
              "      const div = document.createElement('div');\n",
              "      const label = document.createElement('label');\n",
              "      label.textContent = `Downloading \"${filename}\": `;\n",
              "      div.appendChild(label);\n",
              "      const progress = document.createElement('progress');\n",
              "      progress.max = size;\n",
              "      div.appendChild(progress);\n",
              "      document.body.appendChild(div);\n",
              "\n",
              "      const buffers = [];\n",
              "      let downloaded = 0;\n",
              "\n",
              "      const channel = await google.colab.kernel.comms.open(id);\n",
              "      // Send a message to notify the kernel that we're ready.\n",
              "      channel.send({})\n",
              "\n",
              "      for await (const message of channel.messages) {\n",
              "        // Send a message to notify the kernel that we're ready.\n",
              "        channel.send({})\n",
              "        if (message.buffers) {\n",
              "          for (const buffer of message.buffers) {\n",
              "            buffers.push(buffer);\n",
              "            downloaded += buffer.byteLength;\n",
              "            progress.value = downloaded;\n",
              "          }\n",
              "        }\n",
              "      }\n",
              "      const blob = new Blob(buffers, {type: 'application/binary'});\n",
              "      const a = document.createElement('a');\n",
              "      a.href = window.URL.createObjectURL(blob);\n",
              "      a.download = filename;\n",
              "      div.appendChild(a);\n",
              "      a.click();\n",
              "      div.remove();\n",
              "    }\n",
              "  "
            ]
          },
          "metadata": {}
        },
        {
          "output_type": "display_data",
          "data": {
            "text/plain": [
              "<IPython.core.display.Javascript object>"
            ],
            "application/javascript": [
              "download(\"download_38a09697-e42b-47a3-b342-6f9245575dcd\", \"skill_gap_data.csv\", 3833991)"
            ]
          },
          "metadata": {}
        }
      ]
    }
  ]
}